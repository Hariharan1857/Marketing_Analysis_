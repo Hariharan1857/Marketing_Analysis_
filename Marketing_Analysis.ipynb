import pandas as pd  #	To read, clean, manipulate, and analyze the data easily.
import numpy as np   #	To perform numerical calculations — percentages, growth rates, etc
import matplotlib.pyplot as plt  #	To create plots and graphs like line plots, bar charts, etc
import seaborn as sns  #	To create beautiful and professional-looking graphs easily 

# Load Year 1 Data
df_year1 = pd.read_excel('C:/Users/hariharan/Downloads/Marketing_Data_Year_1.xlsx')

# Load Year 2 Data
df_year2 = pd.read_excel('C:/Users/hariharan/Downloads/Marketing_Data_Year_2.xlsx')

# Check Year 1 data
df_year1.head()

# Check Year 2 data
df_year2.head()

# Clean Year 1
df_year1.columns = df_year1.columns.str.strip()
df_year1.dropna(how='all', inplace=True)

# Clean Year 2
df_year2.columns = df_year2.columns.str.strip()
df_year2.dropna(how='all', inplace=True)

#Adding year column to each dataset because it is important for comparison

df_year1['Year'] = 'Year 1'
df_year2['Year'] = 'Year 2'


#Combine Both Datasets into One

df = pd.concat([df_year1, df_year2], ignore_index=True)


# Sum up total actions for each year
total_actions_year1 = df[df['Year'] == 'Year 1']['Total_Actions'].sum()
total_actions_year2 = df[df['Year'] == 'Year 2']['Total_Actions'].sum()

print(f"Total Marketing Actions in Year 1: {total_actions_year1}")
print(f"Total Marketing Actions in Year 2: {total_actions_year2}") 


# Calculate Growth Percentage across States and Cities
# Pivot the data to have Year 1 and Year 2 side-by-side
pivot_city = df.pivot_table(index='City', columns='Year', values='Total_Actions')

# Calculate percentage growth
pivot_city['Growth %'] = ((pivot_city['Year 2'] - pivot_city['Year 1']) / pivot_city['Year 1']) * 100

# View
pivot_city.head()


#This is for States

pivot_state = df.pivot_table(index='State', columns='Year', values='Total_Actions')
pivot_state['Growth %'] = ((pivot_state['Year 2'] - pivot_state['Year 1']) / pivot_state['Year 1']) * 100
pivot_state.head()  

# City-wise Analysis and Yearly Comparison

city_analysis = df.groupby(['City', 'Year']).mean(numeric_only=True)
city_analysis.head()


# Correlation analysis

# Correlation for Year 1
corr_year1 = df_year1.corr(numeric_only=True)
plt.figure(figsize=(10, 8))
sns.heatmap(corr_year1, annot=True, cmap='coolwarm')
plt.title('Correlation Matrix - Year 1')
plt.show()

# Correlation for Year 2
corr_year2 = df_year2.corr(numeric_only=True)
plt.figure(figsize=(10, 8))
sns.heatmap(corr_year2, annot=True, cmap='coolwarm')
plt.title('Correlation Matrix - Year 2')
plt.show()  


# VISUALIZATION

#LINE PLOTS

# Example for Total Actions per city
city_trend = df.groupby(['City', 'Year'])['Total_Actions'].sum().unstack()

city_trend.plot(kind='line', figsize=(15, 8))
plt.title('Total_Actions Trend Over Years - City Wise')
plt.xlabel('City')
plt.ylabel('Total_Actions')
plt.grid()
plt.show()  

# Website Clicks comparison
plt.figure(figsize=(12,6))
sns.barplot(x='City', y='Website_Clicks', hue='Year', data=df)
plt.xticks(rotation=90)
plt.title('Website_Clicks Comparison')
plt.show()

# Similarly for Phone Clicks, Direction Requested


#Providing insights on how the market performance has evolved over the last few years.

# Sum of total actions for each year
total_actions_year1 = df[df['Year'] == 'Year 1']['Total_Actions'].sum()
total_actions_year2 = df[df['Year'] == 'Year 2']['Total_Actions'].sum()

# Calculate growth percentage
growth_percentage = (total_actions_year2 - total_actions_year1) / total_actions_year1 * 100
print(f"Total_Actions in Year 1: {total_actions_year1}")
print(f"Total_Actions in Year 2: {total_actions_year2}")
print(f"Growth Percentage: {growth_percentage}%")  


#. Identifying  cities with consistent growth, decline, or fluctuations in metrics.
# Group data by city and calculate the average metrics for both years
city_yearly_avg = df.groupby(['City', 'Year']).agg({
    'Total_Actions': 'sum',
    'Website_Clicks': 'sum',
    'Phone_Clicks': 'sum',
    'Direction_Requested': 'sum'
}).reset_index()

# Compare year-over-year data for each city
city_growth = city_yearly_avg.pivot(index='City', columns='Year', values='Total_Actions')
city_growth['Growth'] = (city_growth['Year 2'] - city_growth['Year 1']) / city_growth['Year 1'] * 100
print(city_growth)  


# Performing hypothesis tests to compare specific metrics between the two years 
from scipy import stats

# Filter data for Year 1 and Year 2
year1_data = df[df['Year'] == 'Year 1']['Total_Actions']
year2_data = df[df['Year'] == 'Year 2']['Total_Actions']

# Perform a t-test
t_stat, p_value = stats.ttest_ind(year1_data, year2_data)
print(f"T-statistic: {t_stat}, P-value: {p_value}")

# Interpret the result
if p_value < 0.05:
    print("The difference between Year 1 and Year 2 is statistically significant.")
else:
    print("The difference between Year 1 and Year 2 is not statistically significant.")
